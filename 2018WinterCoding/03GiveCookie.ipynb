{
 "cells": [
  {
   "cell_type": "markdown",
   "metadata": {},
   "source": [
    "# 2018 Winter Coding 문제 03 공평하게 쿠키 나눠주기\n",
    "\n",
    "\n",
    "## 문제 설명\n",
    "철수 씨는 쿠키 가게에서 두 아들에게 줄 쿠키를 사기로 했습니다. 가게의 긴 선반에는 여러 개의 바구니가 있고, 각각의 바구니 안에는 같은 종류의 쿠키들이 들어 있습니다. 서로 다른 바구니 안에 들어있는 쿠키들은 서로 다른 종류이며 개수도 제각각입니다. 가게는 쿠키를 바구니 단위로 판매하고 있습니다.\n",
    "\n",
    "철수 씨는 몇 개의 쿠키 바구니를 구매하여 두 아들이 같은 수의 쿠키를 받을 수 있도록 바구니를 나눠주고 싶습니다. 또한, 두 아들에게 최대한 비슷한 모양의 쿠키를 주고 싶습니다. 다행히 가게는 담겨있는 바구니의 위치가 가까울수록 쿠키가 비슷한 모양이도록 진열을 해놨습니다.\n",
    "\n",
    "각각의 바구니는 1번부터 N번 까지의 번호가 붙어있었기 때문에 철수 씨는 첫째 아들에게 사줄 쿠키들의 바구니 번호가 l번부터 m번 까지라면 둘째 아들에게 사줄 쿠키들의 바구니 번호는 m+1번부터 r번까지가 되도록 쿠키를 사려 합니다(1 <= l <= m, m+1 <= r <= N). 물론 두 아들에게 주는 쿠키 개수의 합이 같아야 합니다. 즉, A[i] 를 i번 바구니에 들어있는 쿠키의 개수라고 했을 때, 첫째 아들에게 l번부터 m번까지의 쿠키를 주고, 둘째 아들에게 m+1번부터 r번까지의 쿠키를 준다면, 'A[l]+..+A[m] = A[m+1]+..+A[r]' 를 만족해야 합니다.\n",
    "\n",
    "N개의 쿠키 바구니 안에 들어있는 쿠키의 개수에 대한 정보가 담긴 배열 cookie가 주어질 때, 조건에 맞게 쿠키를 살 경우 한 명의 아들에게 줄 수 있는 가장 많은 쿠키의 수를 return 하는 solution 함수를 완성해주세요. (단, 조건에 맞게 쿠키를 구매할 수 없다면 0을 return 합니다)\n",
    "\n",
    "\n",
    "## 제한사항\n",
    "\n",
    "cookie의 길이는 1이상 2,000이하입니다.\n",
    "\n",
    "cookie의 각각의 원소들은 1이상 500이하의 자연수입니다.\n",
    "\n",
    "\n",
    "## 입출력 예\n",
    "cookie | result\n",
    "-------|-----\n",
    "[1,1,2,3] | 3\n",
    "[1,2,4,5] | 0\n",
    "\n",
    "\n",
    "## 입출력 예 설명\n",
    "\n",
    "입출력 예 #1\n",
    "\n",
    "첫째 아들에게 2, 3번 바구니의 쿠키를 사주고, 둘째 아들에게 4번 바구니의 쿠키를 사주면 두 아들은 각각 3개의 쿠키를 받게 됩니다. 이때가 각 아들에게 주는 최대의 쿠키 수입니다.\n",
    "\n",
    "입출력 예 #2\n",
    "\n",
    "문제에서 주어진 조건에 맞게 쿠키를 살 방법이 존재하지 않습니다."
   ]
  },
  {
   "cell_type": "code",
   "execution_count": 1,
   "metadata": {},
   "outputs": [],
   "source": [
    "def solution(cookie):\n",
    "    possible_cookie_list = []\n",
    "    for ls in range(0, len(cookie)-1):\n",
    "        for le in range(ls+1, len(cookie)):\n",
    "            for rs in range(len(cookie), le, -1):\n",
    "                if sum(cookie[ls:le])==sum(cookie[le:rs]):\n",
    "                    possible_cookie_list.append(sum(cookie[ls:le]))\n",
    "    if len(possible_cookie_list)>0:\n",
    "        answer = max(possible_cookie_list)\n",
    "    else:\n",
    "        answer = 0\n",
    "    return answer"
   ]
  },
  {
   "cell_type": "code",
   "execution_count": 2,
   "metadata": {},
   "outputs": [
    {
     "data": {
      "text/plain": [
       "3"
      ]
     },
     "execution_count": 2,
     "metadata": {},
     "output_type": "execute_result"
    }
   ],
   "source": [
    "cookie = [1,1,2,3]\n",
    "result = 3\n",
    "solution(cookie)"
   ]
  },
  {
   "cell_type": "code",
   "execution_count": 3,
   "metadata": {},
   "outputs": [
    {
     "data": {
      "text/plain": [
       "0"
      ]
     },
     "execution_count": 3,
     "metadata": {},
     "output_type": "execute_result"
    }
   ],
   "source": [
    "cookie = [1,2,4,5]\n",
    "result = 0\n",
    "solution(cookie)"
   ]
  },
  {
   "cell_type": "code",
   "execution_count": 4,
   "metadata": {},
   "outputs": [],
   "source": [
    "from itertools import combinations \n",
    "\n",
    "def solution2(cookie):\n",
    "    possible_cookie_list = []\n",
    "    for comb in list(combinations(range(len(cookie)+1), 3)):\n",
    "        ls, le, rs = comb\n",
    "        if sum(cookie[ls:le])==sum(cookie[le:rs]):\n",
    "            possible_cookie_list.append(sum(cookie[ls:le]))\n",
    "    if len(possible_cookie_list)>0:\n",
    "        answer = max(possible_cookie_list)\n",
    "    else:\n",
    "        answer = 0\n",
    "    return answer"
   ]
  },
  {
   "cell_type": "code",
   "execution_count": 5,
   "metadata": {},
   "outputs": [
    {
     "data": {
      "text/plain": [
       "3"
      ]
     },
     "execution_count": 5,
     "metadata": {},
     "output_type": "execute_result"
    }
   ],
   "source": [
    "cookie = [1,1,2,3]\n",
    "result = 3\n",
    "solution2(cookie)"
   ]
  },
  {
   "cell_type": "code",
   "execution_count": 6,
   "metadata": {},
   "outputs": [
    {
     "data": {
      "text/plain": [
       "0"
      ]
     },
     "execution_count": 6,
     "metadata": {},
     "output_type": "execute_result"
    }
   ],
   "source": [
    "cookie = [1,2,4,5]\n",
    "result = 0\n",
    "solution2(cookie)"
   ]
  },
  {
   "cell_type": "markdown",
   "metadata": {},
   "source": []
  }
 ],
 "metadata": {
  "kernelspec": {
   "display_name": "Python 3",
   "language": "python",
   "name": "python3"
  },
  "language_info": {
   "codemirror_mode": {
    "name": "ipython",
    "version": 3
   },
   "file_extension": ".py",
   "mimetype": "text/x-python",
   "name": "python",
   "nbconvert_exporter": "python",
   "pygments_lexer": "ipython3",
   "version": "3.6.5"
  }
 },
 "nbformat": 4,
 "nbformat_minor": 2
}

{
 "cells": [
  {
   "cell_type": "markdown",
   "metadata": {},
   "source": [
    "# 2018 Winter Coding 문제 02 캐릭터 움직이기\n",
    "\n",
    "\n",
    "## 문제 설명\n",
    "\n",
    "게임 캐릭터를 4가지 명령어를 통해 움직이려 합니다. 명령어는 다음과 같습니다.\n",
    "\n",
    "U: 위쪽으로 한 칸 가기\n",
    "\n",
    "D: 아래쪽으로 한 칸 가기\n",
    "\n",
    "R: 오른쪽으로 한 칸 가기\n",
    "\n",
    "L: 왼쪽으로 한 칸 가기\n",
    "\n",
    "캐릭터는 좌표평면의 (0, 0) 위치에서 시작합니다. 좌표평면의 경계는 왼쪽 위(-5, 5), 왼쪽 아래(-5, -5), 오른쪽 위(5, 5), 오른쪽 아래(5, -5)로 이루어져 있습니다.\n",
    "\n",
    "image\n",
    "\n",
    "예를 들어, ULURRDLLU로 명령했다면\n",
    "\n",
    "image\n",
    "\n",
    "1번 명령어부터 7번 명령어까지 다음과 같이 움직입니다.\n",
    "\n",
    "image\n",
    "\n",
    "8번 명령어부터 9번 명령어까지 다음과 같이 움직입니다.\n",
    "\n",
    "image\n",
    "\n",
    "이때, 우리는 게임 캐릭터가 지나간 길 중 캐릭터가 처음 걸어본 길의 길이를 구하려고 합니다. 예를 들어 위의 예시에서 게임 캐릭터가 움직인 길이는 9이지만, 캐릭터가 처음 걸어본 길의 길이는 7이 됩니다. (8, 9번 명령어에서 움직인 길은 2, 3번 명령어에서 이미 거쳐 간 길입니다)\n",
    "\n",
    "단, 좌표평면의 경계를 넘어가는 명령어는 무시합니다.\n",
    "\n",
    "예를 들어, LULLLLLLU로 명령했다면\n",
    "\n",
    "image\n",
    "\n",
    "1번 명령어부터 6번 명령어대로 움직인 후, 7, 8번 명령어는 무시합니다. 다시 9번 명령어대로 움직입니다.\n",
    "\n",
    "image\n",
    "\n",
    "이때 캐릭터가 처음 걸어본 길의 길이는 7이 됩니다.\n",
    "\n",
    "명령어가 매개변수 dirs로 주어질 때, 게임 캐릭터가 처음 걸어본 길의 길이를 구하여 return 하는 solution 함수를 완성해 주세요.\n",
    "\n",
    "\n",
    "## 제한사항\n",
    "\n",
    "dirs는 string형으로 주어지며, 'U', 'D', 'R', 'L' 이외에 문자는 주어지지 않습니다.\n",
    "\n",
    "dirs의 길이는 500 이하의 자연수입니다.\n",
    "\n",
    "## 입출력 예\n",
    "\n",
    "dirs | answer\n",
    "-----|-------\n",
    "ULURRDLLU | 7\n",
    "LULLLLLLU | 7\n",
    "\n",
    "\n",
    "## 입출력 예 설명\n",
    "\n",
    "입출력 예 #1\n",
    "\n",
    "문제의 예시와 같습니다.\n",
    "\n",
    "입출력 예 #2\n",
    "\n",
    "문제의 예시와 같습니다."
   ]
  },
  {
   "cell_type": "code",
   "execution_count": 5,
   "metadata": {},
   "outputs": [],
   "source": [
    "# solution.py\n",
    "def solution(dirs):\n",
    "    def move(dir, my_loc, my_map):\n",
    "        if dir=='U':\n",
    "            if my_loc[1]>0:\n",
    "                my_loc[1] -= 2\n",
    "                my_map[my_loc[1]+1][my_loc[0]] = 1\n",
    "        elif dir=='D':\n",
    "            if my_loc[1]<20:\n",
    "                my_loc[1] += 2\n",
    "                my_map[my_loc[1]-1][my_loc[0]] = 1\n",
    "        elif dir=='R':\n",
    "            if my_loc[0]<20:\n",
    "                my_loc[0] += 2\n",
    "                my_map[my_loc[1]][my_loc[0]-1] = 1\n",
    "        elif dir=='L':\n",
    "            if my_loc[0]>0:\n",
    "                my_loc[0] -= 2\n",
    "#                 print(my_loc)\n",
    "                my_map[my_loc[1]][my_loc[0]+1] = 1\n",
    "        else:\n",
    "            print('wrong direction')\n",
    "\n",
    "    my_map = [[0]*21 for x in range(21)]\n",
    "    my_loc = [10, 10]\n",
    "    for dir in dirs:\n",
    "        move(dir, my_loc, my_map)\n",
    "    return sum([sum(x) for x in my_map])"
   ]
  },
  {
   "cell_type": "code",
   "execution_count": 6,
   "metadata": {},
   "outputs": [
    {
     "data": {
      "text/plain": [
       "7"
      ]
     },
     "execution_count": 6,
     "metadata": {},
     "output_type": "execute_result"
    }
   ],
   "source": [
    "dirs = 'ULURRDLLU'\n",
    "answer = 7\n",
    "solution(dirs)"
   ]
  },
  {
   "cell_type": "code",
   "execution_count": 7,
   "metadata": {},
   "outputs": [
    {
     "data": {
      "text/plain": [
       "7"
      ]
     },
     "execution_count": 7,
     "metadata": {},
     "output_type": "execute_result"
    }
   ],
   "source": [
    "dirs = 'LULLLLLLU'\n",
    "answer = 7\n",
    "solution(dirs)"
   ]
  }
 ],
 "metadata": {
  "kernelspec": {
   "display_name": "Python 3",
   "language": "python",
   "name": "python3"
  },
  "language_info": {
   "codemirror_mode": {
    "name": "ipython",
    "version": 3
   },
   "file_extension": ".py",
   "mimetype": "text/x-python",
   "name": "python",
   "nbconvert_exporter": "python",
   "pygments_lexer": "ipython3",
   "version": "3.6.5"
  }
 },
 "nbformat": 4,
 "nbformat_minor": 2
}
